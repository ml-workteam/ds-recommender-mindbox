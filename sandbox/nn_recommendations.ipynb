{
 "cells": [
  {
   "cell_type": "code",
   "execution_count": 1,
   "metadata": {},
   "outputs": [
    {
     "name": "stdout",
     "output_type": "stream",
     "text": [
      "2.1.0\n"
     ]
    }
   ],
   "source": [
    "import pandas as pd\n",
    "import implicit\n",
    "import os\n",
    "import numpy as np\n",
    "from scipy import sparse\n",
    "import tensorflow as tf\n",
    "from tensorflow import keras\n",
    "import matplotlib.pyplot as plt\n",
    "import random\n",
    "%matplotlib inline\n",
    "\n",
    "print(tf.__version__)"
   ]
  },
  {
   "cell_type": "markdown",
   "metadata": {},
   "source": [
    "Решается задача товарных рекомендаций.\n",
    "\n",
    "- `purchases_train.csv` - история покупок в розничном магазине (с 21 октября 2003 года по 12 марта 2004 года)\n",
    "\n",
    "- `purchases_test.csv` - покупки за следующую неделю (с 13 по 19 марта 2004 года). В этой выборке для каждого пользователя исключены товары, которые он уже покупал за период обучающей выборки\n",
    "\n",
    "- `customers.csv` - пол клиентов\n",
    "\n",
    "В решении ниже\n",
    "- обучается модель GMF (Generative Matrix Factorization) на TensorFlow/Keras\n",
    "- обучается модель MLP (Multi Layer Perceptron)\n",
    "- сравнивается с тестовыми данными\n",
    "- измеряется ее качество по метрике map@10\n",
    "- данные о поле клиентов не используются\n",
    "\n",
    "Улучшите решение с помощью информацию о поле клиентов"
   ]
  },
  {
   "cell_type": "markdown",
   "metadata": {},
   "source": [
    "## Create Dataset"
   ]
  },
  {
   "cell_type": "code",
   "execution_count": 2,
   "metadata": {},
   "outputs": [],
   "source": [
    "purchases_train = pd.read_csv('purchases_train.csv')"
   ]
  },
  {
   "cell_type": "code",
   "execution_count": 3,
   "metadata": {},
   "outputs": [
    {
     "data": {
      "text/plain": [
       "107491"
      ]
     },
     "execution_count": 3,
     "metadata": {},
     "output_type": "execute_result"
    }
   ],
   "source": [
    "# уникальных customer_id в train\n",
    "len(purchases_train['customer_id'].unique())"
   ]
  },
  {
   "cell_type": "code",
   "execution_count": 4,
   "metadata": {},
   "outputs": [
    {
     "data": {
      "text/plain": [
       "1792"
      ]
     },
     "execution_count": 4,
     "metadata": {},
     "output_type": "execute_result"
    }
   ],
   "source": [
    "len(purchases_train['product_id'].unique())"
   ]
  },
  {
   "cell_type": "code",
   "execution_count": 5,
   "metadata": {},
   "outputs": [],
   "source": [
    "ds_train = purchases_train[['customer_id', 'product_id']].sort_values('customer_id').reset_index().drop('index', axis=1)"
   ]
  },
  {
   "cell_type": "code",
   "execution_count": 6,
   "metadata": {},
   "outputs": [],
   "source": [
    "# датасет для нейросети должен быть customer_id, product_id, y\n",
    "# y = 1\n",
    "# + y=0 по 100 random samples \n",
    "item_set = set(ds_train['product_id'].to_list())\n",
    "users_set = set(ds_train['customer_id'].to_list())    "
   ]
  },
  {
   "cell_type": "code",
   "execution_count": 10,
   "metadata": {},
   "outputs": [
    {
     "data": {
      "text/html": [
       "<div>\n",
       "<style scoped>\n",
       "    .dataframe tbody tr th:only-of-type {\n",
       "        vertical-align: middle;\n",
       "    }\n",
       "\n",
       "    .dataframe tbody tr th {\n",
       "        vertical-align: top;\n",
       "    }\n",
       "\n",
       "    .dataframe thead th {\n",
       "        text-align: right;\n",
       "    }\n",
       "</style>\n",
       "<table border=\"1\" class=\"dataframe\">\n",
       "  <thead>\n",
       "    <tr style=\"text-align: right;\">\n",
       "      <th></th>\n",
       "      <th>customer_id</th>\n",
       "      <th>product_id</th>\n",
       "    </tr>\n",
       "  </thead>\n",
       "  <tbody>\n",
       "    <tr>\n",
       "      <td>0</td>\n",
       "      <td>107</td>\n",
       "      <td>1542</td>\n",
       "    </tr>\n",
       "    <tr>\n",
       "      <td>1</td>\n",
       "      <td>107</td>\n",
       "      <td>5449</td>\n",
       "    </tr>\n",
       "    <tr>\n",
       "      <td>2</td>\n",
       "      <td>351</td>\n",
       "      <td>965</td>\n",
       "    </tr>\n",
       "    <tr>\n",
       "      <td>3</td>\n",
       "      <td>357</td>\n",
       "      <td>12654</td>\n",
       "    </tr>\n",
       "    <tr>\n",
       "      <td>4</td>\n",
       "      <td>434</td>\n",
       "      <td>3921</td>\n",
       "    </tr>\n",
       "    <tr>\n",
       "      <td>...</td>\n",
       "      <td>...</td>\n",
       "      <td>...</td>\n",
       "    </tr>\n",
       "    <tr>\n",
       "      <td>351681</td>\n",
       "      <td>21696224</td>\n",
       "      <td>12401</td>\n",
       "    </tr>\n",
       "    <tr>\n",
       "      <td>351682</td>\n",
       "      <td>21696224</td>\n",
       "      <td>8102</td>\n",
       "    </tr>\n",
       "    <tr>\n",
       "      <td>351683</td>\n",
       "      <td>21696224</td>\n",
       "      <td>10342</td>\n",
       "    </tr>\n",
       "    <tr>\n",
       "      <td>351684</td>\n",
       "      <td>21696337</td>\n",
       "      <td>3121</td>\n",
       "    </tr>\n",
       "    <tr>\n",
       "      <td>351685</td>\n",
       "      <td>21696337</td>\n",
       "      <td>3052</td>\n",
       "    </tr>\n",
       "  </tbody>\n",
       "</table>\n",
       "<p>351686 rows × 2 columns</p>\n",
       "</div>"
      ],
      "text/plain": [
       "        customer_id  product_id\n",
       "0               107        1542\n",
       "1               107        5449\n",
       "2               351         965\n",
       "3               357       12654\n",
       "4               434        3921\n",
       "...             ...         ...\n",
       "351681     21696224       12401\n",
       "351682     21696224        8102\n",
       "351683     21696224       10342\n",
       "351684     21696337        3121\n",
       "351685     21696337        3052\n",
       "\n",
       "[351686 rows x 2 columns]"
      ]
     },
     "execution_count": 10,
     "metadata": {},
     "output_type": "execute_result"
    }
   ],
   "source": [
    "ds_train"
   ]
  },
  {
   "cell_type": "code",
   "execution_count": 11,
   "metadata": {},
   "outputs": [],
   "source": [
    "# закодируем item_id и user_id\n",
    "\n",
    "class IdEncoder:\n",
    "    \n",
    "    def __init__(self, item_set, users_set):\n",
    "        self._item_list = list(item_set)\n",
    "        self._user_list = list(users_set)\n",
    "        self._set_length()\n",
    "        \n",
    "    def _set_length(self):\n",
    "        self.num_users = len(self._user_list)\n",
    "        self.num_items = len(self._item_list)\n",
    "        \n",
    "    def GetUserID(self, UserUID):\n",
    "        # in case of Out-of-Range (unknown UserUID) -> Add \n",
    "        if UserUID in self._user_list:\n",
    "            return self._user_list.index(UserUID)+1\n",
    "        else:\n",
    "            return 0\n",
    "\n",
    "    def GetItemID(self, ItemUID):\n",
    "        if ItemUID in self._item_list:\n",
    "            return self._item_list.index(ItemUID)+1\n",
    "        else:\n",
    "            return 0\n",
    "    \n",
    "    def GetUserUID(self, UserId):\n",
    "        if UserId <= self.num_users:\n",
    "            return self._user_list[UserId-1]\n",
    "        else:\n",
    "            return 0\n",
    "    \n",
    "    def GetItemUID(self, ItemId):\n",
    "        if ItemId <= self.num_items:\n",
    "            return self._item_list[ItemId-1]\n",
    "        else:\n",
    "            return 0\n",
    "    \n",
    "idEncoder = IdEncoder(item_set, users_set)\n",
    "\n",
    "# encode ids by left joins \n",
    "# left merge dataframes\n",
    "\n",
    "if os.path.exists('df_user.pkl'):\n",
    "    df_user = pd.read_pickle('df_user.pkl')\n",
    "else:    \n",
    "    user_ids = []\n",
    "    user_uids = []\n",
    "    for i,j in enumerate(idEncoder._user_list):\n",
    "        user_ids.append(i+1)\n",
    "        user_uids.append(j)\n",
    "    # кодировка\n",
    "    df_user = pd.DataFrame({'user_id': user_ids, 'user_uid': user_uids})    \n",
    "    df_user.to_pickle('df_user.pkl')\n",
    "\n",
    "if os.path.exists('df_item.pkl'):\n",
    "    df_item = pd.read_pickle('df_item.pkl')\n",
    "else:    \n",
    "    item_ids = []\n",
    "    item_uids = []\n",
    "    for i,j in enumerate(idEncoder._item_list):\n",
    "        item_ids.append(i+1)\n",
    "        item_uids.append(j)\n",
    "\n",
    "    df_item = pd.DataFrame({'item_id': item_ids, 'item_uid': item_uids})    \n",
    "    df_item.to_pickle('df_item.pkl')"
   ]
  },
  {
   "cell_type": "code",
   "execution_count": 12,
   "metadata": {},
   "outputs": [],
   "source": [
    "ds_train = ds_train.merge(df_user, left_on='customer_id', right_on='user_uid', how='left')\n",
    "ds_train = ds_train.merge(df_item, left_on='product_id', right_on='item_uid', how='left')"
   ]
  },
  {
   "cell_type": "code",
   "execution_count": 13,
   "metadata": {},
   "outputs": [
    {
     "data": {
      "text/html": [
       "<div>\n",
       "<style scoped>\n",
       "    .dataframe tbody tr th:only-of-type {\n",
       "        vertical-align: middle;\n",
       "    }\n",
       "\n",
       "    .dataframe tbody tr th {\n",
       "        vertical-align: top;\n",
       "    }\n",
       "\n",
       "    .dataframe thead th {\n",
       "        text-align: right;\n",
       "    }\n",
       "</style>\n",
       "<table border=\"1\" class=\"dataframe\">\n",
       "  <thead>\n",
       "    <tr style=\"text-align: right;\">\n",
       "      <th></th>\n",
       "      <th>customer_id</th>\n",
       "      <th>product_id</th>\n",
       "      <th>user_id</th>\n",
       "      <th>item_id</th>\n",
       "    </tr>\n",
       "  </thead>\n",
       "  <tbody>\n",
       "    <tr>\n",
       "      <td>0</td>\n",
       "      <td>107</td>\n",
       "      <td>1542</td>\n",
       "      <td>45</td>\n",
       "      <td>407</td>\n",
       "    </tr>\n",
       "    <tr>\n",
       "      <td>1</td>\n",
       "      <td>107</td>\n",
       "      <td>5449</td>\n",
       "      <td>45</td>\n",
       "      <td>1403</td>\n",
       "    </tr>\n",
       "    <tr>\n",
       "      <td>2</td>\n",
       "      <td>351</td>\n",
       "      <td>965</td>\n",
       "      <td>140</td>\n",
       "      <td>258</td>\n",
       "    </tr>\n",
       "    <tr>\n",
       "      <td>3</td>\n",
       "      <td>357</td>\n",
       "      <td>12654</td>\n",
       "      <td>146</td>\n",
       "      <td>1152</td>\n",
       "    </tr>\n",
       "    <tr>\n",
       "      <td>4</td>\n",
       "      <td>434</td>\n",
       "      <td>3921</td>\n",
       "      <td>181</td>\n",
       "      <td>1016</td>\n",
       "    </tr>\n",
       "    <tr>\n",
       "      <td>...</td>\n",
       "      <td>...</td>\n",
       "      <td>...</td>\n",
       "      <td>...</td>\n",
       "      <td>...</td>\n",
       "    </tr>\n",
       "    <tr>\n",
       "      <td>351681</td>\n",
       "      <td>21696224</td>\n",
       "      <td>12401</td>\n",
       "      <td>82257</td>\n",
       "      <td>1088</td>\n",
       "    </tr>\n",
       "    <tr>\n",
       "      <td>351682</td>\n",
       "      <td>21696224</td>\n",
       "      <td>8102</td>\n",
       "      <td>82257</td>\n",
       "      <td>1784</td>\n",
       "    </tr>\n",
       "    <tr>\n",
       "      <td>351683</td>\n",
       "      <td>21696224</td>\n",
       "      <td>10342</td>\n",
       "      <td>82257</td>\n",
       "      <td>568</td>\n",
       "    </tr>\n",
       "    <tr>\n",
       "      <td>351684</td>\n",
       "      <td>21696337</td>\n",
       "      <td>3121</td>\n",
       "      <td>82306</td>\n",
       "      <td>821</td>\n",
       "    </tr>\n",
       "    <tr>\n",
       "      <td>351685</td>\n",
       "      <td>21696337</td>\n",
       "      <td>3052</td>\n",
       "      <td>82306</td>\n",
       "      <td>806</td>\n",
       "    </tr>\n",
       "  </tbody>\n",
       "</table>\n",
       "<p>351686 rows × 4 columns</p>\n",
       "</div>"
      ],
      "text/plain": [
       "        customer_id  product_id  user_id  item_id\n",
       "0               107        1542       45      407\n",
       "1               107        5449       45     1403\n",
       "2               351         965      140      258\n",
       "3               357       12654      146     1152\n",
       "4               434        3921      181     1016\n",
       "...             ...         ...      ...      ...\n",
       "351681     21696224       12401    82257     1088\n",
       "351682     21696224        8102    82257     1784\n",
       "351683     21696224       10342    82257      568\n",
       "351684     21696337        3121    82306      821\n",
       "351685     21696337        3052    82306      806\n",
       "\n",
       "[351686 rows x 4 columns]"
      ]
     },
     "execution_count": 13,
     "metadata": {},
     "output_type": "execute_result"
    }
   ],
   "source": [
    "ds_train.drop(['user_uid', 'item_uid'], axis=1)"
   ]
  },
  {
   "cell_type": "code",
   "execution_count": 14,
   "metadata": {
    "scrolled": true
   },
   "outputs": [],
   "source": [
    "N_zero = 5 # количество target=0 подмешиваемых к target=1\n",
    "\n",
    "customer_ids = []\n",
    "product_ids = []\n",
    "target = []\n",
    "\n",
    "for u in list(users_set):\n",
    "    target_items = set(ds_train[ds_train['customer_id'] == u]['product_id'].to_list())\n",
    "    sample_zero_target = random.sample(list(item_set - target_items), N_zero)\n",
    "    for i in target_items:\n",
    "        customer_ids.append(u)\n",
    "        product_ids.append(i)\n",
    "        target.append(1)\n",
    "    for i in sample_zero_target:\n",
    "        customer_ids.append(u)\n",
    "        product_ids.append(i)\n",
    "        target.append(0)\n",
    "ds1 = pd.DataFrame({\n",
    "    'customer_id': customer_ids,\n",
    "    'product_id': product_ids,\n",
    "    'y': target\n",
    "})        \n",
    "#ds1[ds1['customer_id'] == 16252928]   "
   ]
  },
  {
   "cell_type": "code",
   "execution_count": 15,
   "metadata": {},
   "outputs": [
    {
     "data": {
      "text/html": [
       "<div>\n",
       "<style scoped>\n",
       "    .dataframe tbody tr th:only-of-type {\n",
       "        vertical-align: middle;\n",
       "    }\n",
       "\n",
       "    .dataframe tbody tr th {\n",
       "        vertical-align: top;\n",
       "    }\n",
       "\n",
       "    .dataframe thead th {\n",
       "        text-align: right;\n",
       "    }\n",
       "</style>\n",
       "<table border=\"1\" class=\"dataframe\">\n",
       "  <thead>\n",
       "    <tr style=\"text-align: right;\">\n",
       "      <th></th>\n",
       "      <th>customer_id</th>\n",
       "      <th>product_id</th>\n",
       "      <th>y</th>\n",
       "      <th>user_id</th>\n",
       "      <th>item_id</th>\n",
       "    </tr>\n",
       "  </thead>\n",
       "  <tbody>\n",
       "    <tr>\n",
       "      <td>0</td>\n",
       "      <td>16252928</td>\n",
       "      <td>5868</td>\n",
       "      <td>1</td>\n",
       "      <td>1</td>\n",
       "      <td>1480</td>\n",
       "    </tr>\n",
       "    <tr>\n",
       "      <td>1</td>\n",
       "      <td>16252928</td>\n",
       "      <td>12106</td>\n",
       "      <td>0</td>\n",
       "      <td>1</td>\n",
       "      <td>1013</td>\n",
       "    </tr>\n",
       "    <tr>\n",
       "      <td>2</td>\n",
       "      <td>16252928</td>\n",
       "      <td>2903</td>\n",
       "      <td>0</td>\n",
       "      <td>1</td>\n",
       "      <td>757</td>\n",
       "    </tr>\n",
       "    <tr>\n",
       "      <td>3</td>\n",
       "      <td>16252928</td>\n",
       "      <td>2245</td>\n",
       "      <td>0</td>\n",
       "      <td>1</td>\n",
       "      <td>597</td>\n",
       "    </tr>\n",
       "    <tr>\n",
       "      <td>4</td>\n",
       "      <td>16252928</td>\n",
       "      <td>7477</td>\n",
       "      <td>0</td>\n",
       "      <td>1</td>\n",
       "      <td>1700</td>\n",
       "    </tr>\n",
       "    <tr>\n",
       "      <td>...</td>\n",
       "      <td>...</td>\n",
       "      <td>...</td>\n",
       "      <td>...</td>\n",
       "      <td>...</td>\n",
       "      <td>...</td>\n",
       "    </tr>\n",
       "    <tr>\n",
       "      <td>878222</td>\n",
       "      <td>7864317</td>\n",
       "      <td>12174</td>\n",
       "      <td>0</td>\n",
       "      <td>107491</td>\n",
       "      <td>1037</td>\n",
       "    </tr>\n",
       "    <tr>\n",
       "      <td>878223</td>\n",
       "      <td>7864317</td>\n",
       "      <td>3692</td>\n",
       "      <td>0</td>\n",
       "      <td>107491</td>\n",
       "      <td>962</td>\n",
       "    </tr>\n",
       "    <tr>\n",
       "      <td>878224</td>\n",
       "      <td>7864317</td>\n",
       "      <td>7580</td>\n",
       "      <td>0</td>\n",
       "      <td>107491</td>\n",
       "      <td>1712</td>\n",
       "    </tr>\n",
       "    <tr>\n",
       "      <td>878225</td>\n",
       "      <td>7864317</td>\n",
       "      <td>1254</td>\n",
       "      <td>0</td>\n",
       "      <td>107491</td>\n",
       "      <td>340</td>\n",
       "    </tr>\n",
       "    <tr>\n",
       "      <td>878226</td>\n",
       "      <td>7864317</td>\n",
       "      <td>2462</td>\n",
       "      <td>0</td>\n",
       "      <td>107491</td>\n",
       "      <td>654</td>\n",
       "    </tr>\n",
       "  </tbody>\n",
       "</table>\n",
       "<p>878227 rows × 5 columns</p>\n",
       "</div>"
      ],
      "text/plain": [
       "        customer_id  product_id  y  user_id  item_id\n",
       "0          16252928        5868  1        1     1480\n",
       "1          16252928       12106  0        1     1013\n",
       "2          16252928        2903  0        1      757\n",
       "3          16252928        2245  0        1      597\n",
       "4          16252928        7477  0        1     1700\n",
       "...             ...         ... ..      ...      ...\n",
       "878222      7864317       12174  0   107491     1037\n",
       "878223      7864317        3692  0   107491      962\n",
       "878224      7864317        7580  0   107491     1712\n",
       "878225      7864317        1254  0   107491      340\n",
       "878226      7864317        2462  0   107491      654\n",
       "\n",
       "[878227 rows x 5 columns]"
      ]
     },
     "execution_count": 15,
     "metadata": {},
     "output_type": "execute_result"
    }
   ],
   "source": [
    "ds1 = ds1.merge(df_user, left_on='customer_id', right_on='user_uid', how='left')\n",
    "ds1 = ds1.merge(df_item, left_on='product_id', right_on='item_uid', how='left')\n",
    "ds1.drop(['user_uid', 'item_uid'], axis=1)"
   ]
  },
  {
   "cell_type": "markdown",
   "metadata": {},
   "source": [
    "## Embeddings with Keras"
   ]
  },
  {
   "cell_type": "code",
   "execution_count": 16,
   "metadata": {},
   "outputs": [],
   "source": [
    "n_factors = 20\n",
    "n_items = idEncoder.num_items\n",
    "n_users = idEncoder.num_users\n",
    "\n",
    "# creating item embedding path\n",
    "item_input = keras.layers.Input(shape=[1], name=\"Item-Input\")\n",
    "item_embedding = keras.layers.Embedding(n_items+1, n_factors, name=\"Item-Embedding\")(item_input)\n",
    "item_vec = keras.layers.Flatten(name=\"Flatten-Items\")(item_embedding)\n",
    "\n",
    "# creating user embedding path\n",
    "user_input = keras.layers.Input(shape=[1], name=\"User-Input\")\n",
    "user_embedding = keras.layers.Embedding(n_users+1, n_factors, name=\"User-Embedding\")(user_input)\n",
    "user_vec = keras.layers.Flatten(name=\"Flatten-Users\")(user_embedding)\n",
    "\n",
    "# performing dot product and creating model\n",
    "prod = keras.layers.Dot(name=\"Dot-Product\", axes=1)([item_vec, user_vec])\n",
    "model = keras.models.Model([user_input, item_input], prod)\n",
    "model.compile('adam', 'mean_squared_error')"
   ]
  },
  {
   "cell_type": "code",
   "execution_count": 17,
   "metadata": {},
   "outputs": [
    {
     "name": "stdout",
     "output_type": "stream",
     "text": [
      "Model: \"model\"\n",
      "__________________________________________________________________________________________________\n",
      "Layer (type)                    Output Shape         Param #     Connected to                     \n",
      "==================================================================================================\n",
      "Item-Input (InputLayer)         [(None, 1)]          0                                            \n",
      "__________________________________________________________________________________________________\n",
      "User-Input (InputLayer)         [(None, 1)]          0                                            \n",
      "__________________________________________________________________________________________________\n",
      "Item-Embedding (Embedding)      (None, 1, 20)        35860       Item-Input[0][0]                 \n",
      "__________________________________________________________________________________________________\n",
      "User-Embedding (Embedding)      (None, 1, 20)        2149840     User-Input[0][0]                 \n",
      "__________________________________________________________________________________________________\n",
      "Flatten-Items (Flatten)         (None, 20)           0           Item-Embedding[0][0]             \n",
      "__________________________________________________________________________________________________\n",
      "Flatten-Users (Flatten)         (None, 20)           0           User-Embedding[0][0]             \n",
      "__________________________________________________________________________________________________\n",
      "Dot-Product (Dot)               (None, 1)            0           Flatten-Items[0][0]              \n",
      "                                                                 Flatten-Users[0][0]              \n",
      "==================================================================================================\n",
      "Total params: 2,185,700\n",
      "Trainable params: 2,185,700\n",
      "Non-trainable params: 0\n",
      "__________________________________________________________________________________________________\n"
     ]
    }
   ],
   "source": [
    "model.summary()"
   ]
  },
  {
   "cell_type": "code",
   "execution_count": 18,
   "metadata": {},
   "outputs": [
    {
     "name": "stdout",
     "output_type": "stream",
     "text": [
      "Train on 878227 samples\n",
      "Epoch 1/5\n",
      "878227/878227 [==============================] - 4690s 5ms/sample - loss: 0.2743\n",
      "Epoch 2/5\n",
      "878227/878227 [==============================] - 471s 537us/sample - loss: 0.1226\n",
      "Epoch 3/5\n",
      "878227/878227 [==============================] - 981s 1ms/sample - loss: 0.0732\n",
      "Epoch 4/5\n",
      "878227/878227 [==============================] - 539s 614us/sample - loss: 0.0528\n",
      "Epoch 5/5\n",
      "878227/878227 [==============================] - 3732s 4ms/sample - loss: 0.0418\n"
     ]
    },
    {
     "data": {
      "image/png": "[encoded data removed]",
      "text/plain": [
       "<Figure size 432x288 with 1 Axes>"
      ]
     },
     "metadata": {
      "needs_background": "light"
     },
     "output_type": "display_data"
    }
   ],
   "source": [
    "if os.path.exists('gncf.h5'):\n",
    "    model = keras.models.load_model('gncf.h5')\n",
    "else:\n",
    "    history = model.fit([ds1.user_id, ds1.item_id], ds1.y, epochs=5, verbose=1)\n",
    "    model.save('gncf.h5')\n",
    "    plt.plot(history.history['loss'])\n",
    "    plt.xlabel(\"Epochs\")\n",
    "    plt.ylabel(\"Training Error\")"
   ]
  },
  {
   "cell_type": "markdown",
   "metadata": {},
   "source": [
    "MLP"
   ]
  },
  {
   "cell_type": "code",
   "execution_count": 19,
   "metadata": {},
   "outputs": [],
   "source": [
    "n_factors = 20\n",
    "n_items = idEncoder.num_items\n",
    "n_users = idEncoder.num_users\n",
    "\n",
    "# creating item embedding path\n",
    "item_input = keras.layers.Input(shape=[1], name=\"Item-Input\")\n",
    "item_embedding = keras.layers.Embedding(n_items+1, n_factors, name=\"Item-Embedding\")(item_input)\n",
    "item_vec = keras.layers.Flatten(name=\"Flatten-Items\")(item_embedding)\n",
    "\n",
    "# creating user embedding path\n",
    "user_input = keras.layers.Input(shape=[1], name=\"User-Input\")\n",
    "user_embedding = keras.layers.Embedding(n_users+1, n_factors, name=\"User-Embedding\")(user_input)\n",
    "user_vec = keras.layers.Flatten(name=\"Flatten-Users\")(user_embedding)\n",
    "\n",
    "# concatenate features\n",
    "conc = keras.layers.Concatenate()([item_vec, user_vec])\n",
    "\n",
    "# add fully-connected-layers\n",
    "fc1 = keras.layers.Dense(128, activation='relu')(conc)\n",
    "fc2 = keras.layers.Dense(32, activation='relu')(fc1)\n",
    "out = keras.layers.Dense(1)(fc2)\n",
    "\n",
    "# Create model and compile it\n",
    "model2 = keras.models.Model([user_input, item_input], out)\n",
    "model2.compile('adam', 'mean_squared_error')"
   ]
  },
  {
   "cell_type": "code",
   "execution_count": 20,
   "metadata": {},
   "outputs": [
    {
     "name": "stdout",
     "output_type": "stream",
     "text": [
      "Model: \"model_1\"\n",
      "__________________________________________________________________________________________________\n",
      "Layer (type)                    Output Shape         Param #     Connected to                     \n",
      "==================================================================================================\n",
      "Item-Input (InputLayer)         [(None, 1)]          0                                            \n",
      "__________________________________________________________________________________________________\n",
      "User-Input (InputLayer)         [(None, 1)]          0                                            \n",
      "__________________________________________________________________________________________________\n",
      "Item-Embedding (Embedding)      (None, 1, 20)        35860       Item-Input[0][0]                 \n",
      "__________________________________________________________________________________________________\n",
      "User-Embedding (Embedding)      (None, 1, 20)        2149840     User-Input[0][0]                 \n",
      "__________________________________________________________________________________________________\n",
      "Flatten-Items (Flatten)         (None, 20)           0           Item-Embedding[0][0]             \n",
      "__________________________________________________________________________________________________\n",
      "Flatten-Users (Flatten)         (None, 20)           0           User-Embedding[0][0]             \n",
      "__________________________________________________________________________________________________\n",
      "concatenate (Concatenate)       (None, 40)           0           Flatten-Items[0][0]              \n",
      "                                                                 Flatten-Users[0][0]              \n",
      "__________________________________________________________________________________________________\n",
      "dense (Dense)                   (None, 128)          5248        concatenate[0][0]                \n",
      "__________________________________________________________________________________________________\n",
      "dense_1 (Dense)                 (None, 32)           4128        dense[0][0]                      \n",
      "__________________________________________________________________________________________________\n",
      "dense_2 (Dense)                 (None, 1)            33          dense_1[0][0]                    \n",
      "==================================================================================================\n",
      "Total params: 2,195,109\n",
      "Trainable params: 2,195,109\n",
      "Non-trainable params: 0\n",
      "__________________________________________________________________________________________________\n"
     ]
    }
   ],
   "source": [
    "model2.summary()"
   ]
  },
  {
   "cell_type": "code",
   "execution_count": 21,
   "metadata": {},
   "outputs": [
    {
     "name": "stdout",
     "output_type": "stream",
     "text": [
      "Train on 878227 samples\n",
      "Epoch 1/5\n",
      "878227/878227 [==============================] - 605s 689us/sample - loss: 0.1219\n",
      "Epoch 2/5\n",
      "878227/878227 [==============================] - 612s 697us/sample - loss: 0.0887\n",
      "Epoch 3/5\n",
      "878227/878227 [==============================] - 613s 698us/sample - loss: 0.0698\n",
      "Epoch 4/5\n",
      "878227/878227 [==============================] - 618s 704us/sample - loss: 0.0572\n",
      "Epoch 5/5\n",
      "878227/878227 [==============================] - 609s 693us/sample - loss: 0.0478\n"
     ]
    },
    {
     "data": {
      "image/png": "[encoded data removed]",
      "text/plain": [
       "<Figure size 432x288 with 1 Axes>"
      ]
     },
     "metadata": {
      "needs_background": "light"
     },
     "output_type": "display_data"
    }
   ],
   "source": [
    "if os.path.exists('mlp.h5'):\n",
    "    model2 = keras.models.load_model('mlp.h5')\n",
    "else:\n",
    "    history = model2.fit([ds1.user_id, ds1.item_id], ds1.y, epochs=5, verbose=1)\n",
    "    model2.save('mlp.h5')\n",
    "    plt.plot(history.history['loss'])\n",
    "    plt.xlabel(\"Epochs\")\n",
    "    plt.ylabel(\"Training Error\")"
   ]
  },
  {
   "cell_type": "code",
   "execution_count": 3,
   "metadata": {},
   "outputs": [],
   "source": [
    "user_items = sparse.coo_matrix(\n",
    "    (\n",
    "        np.ones(purchases_train.customer_id.size, dtype=np.float32),\n",
    "        (\n",
    "            purchases_train.customer_id,\n",
    "            purchases_train.product_id\n",
    "        )\n",
    "    )\n",
    ").tocsr()"
   ]
  },
  {
   "cell_type": "code",
   "execution_count": 4,
   "metadata": {},
   "outputs": [],
   "source": [
    "item_users = user_items.T.tocsr()"
   ]
  },
  {
   "cell_type": "code",
   "execution_count": 5,
   "metadata": {},
   "outputs": [
    {
     "name": "stderr",
     "output_type": "stream",
     "text": [
      "WARNING:root:Intel MKL BLAS detected. Its highly recommend to set the environment variable 'export MKL_NUM_THREADS=1' to disable its internal multithreading\n"
     ]
    }
   ],
   "source": [
    "model = implicit.als.AlternatingLeastSquares(factors=64, iterations=100)"
   ]
  },
  {
   "cell_type": "code",
   "execution_count": 6,
   "metadata": {},
   "outputs": [
    {
     "name": "stderr",
     "output_type": "stream",
     "text": [
      "100%|██████████████████████████████████████████████████████████████████████████████| 100.0/100 [01:04<00:00,  1.60it/s]\n"
     ]
    }
   ],
   "source": [
    "np.random.seed(42)\n",
    "model.fit(item_users=item_users)"
   ]
  },
  {
   "cell_type": "markdown",
   "metadata": {},
   "source": [
    "purchases_test.csv содержит данные о покупках с 13 марта 2004 по 20 марта 2004 - то есть неделя следующая за обучающей выборкой\n",
    "\n",
    "для каждого пользователя исключены те товары, которые он покупал в обучающей выборке"
   ]
  },
  {
   "cell_type": "code",
   "execution_count": 58,
   "metadata": {
    "scrolled": true
   },
   "outputs": [
    {
     "data": {
      "text/html": [
       "<div>\n",
       "<style scoped>\n",
       "    .dataframe tbody tr th:only-of-type {\n",
       "        vertical-align: middle;\n",
       "    }\n",
       "\n",
       "    .dataframe tbody tr th {\n",
       "        vertical-align: top;\n",
       "    }\n",
       "\n",
       "    .dataframe thead th {\n",
       "        text-align: right;\n",
       "    }\n",
       "</style>\n",
       "<table border=\"1\" class=\"dataframe\">\n",
       "  <thead>\n",
       "    <tr style=\"text-align: right;\">\n",
       "      <th></th>\n",
       "      <th>customer_id</th>\n",
       "      <th>product_id</th>\n",
       "      <th>datetime</th>\n",
       "    </tr>\n",
       "  </thead>\n",
       "  <tbody>\n",
       "    <tr>\n",
       "      <td>0</td>\n",
       "      <td>1021292</td>\n",
       "      <td>6197</td>\n",
       "      <td>2004-03-18 13:35:19.145152000</td>\n",
       "    </tr>\n",
       "    <tr>\n",
       "      <td>1</td>\n",
       "      <td>11379978</td>\n",
       "      <td>4659</td>\n",
       "      <td>2004-03-19 18:51:31.887936000</td>\n",
       "    </tr>\n",
       "    <tr>\n",
       "      <td>2</td>\n",
       "      <td>13271885</td>\n",
       "      <td>5659</td>\n",
       "      <td>2004-03-14 05:47:21.544166400</td>\n",
       "    </tr>\n",
       "    <tr>\n",
       "      <td>3</td>\n",
       "      <td>13271885</td>\n",
       "      <td>1015</td>\n",
       "      <td>2004-03-15 14:41:19.702089601</td>\n",
       "    </tr>\n",
       "    <tr>\n",
       "      <td>4</td>\n",
       "      <td>12315337</td>\n",
       "      <td>12072</td>\n",
       "      <td>2004-03-19 10:39:17.148105600</td>\n",
       "    </tr>\n",
       "  </tbody>\n",
       "</table>\n",
       "</div>"
      ],
      "text/plain": [
       "   customer_id  product_id                       datetime\n",
       "0      1021292        6197  2004-03-18 13:35:19.145152000\n",
       "1     11379978        4659  2004-03-19 18:51:31.887936000\n",
       "2     13271885        5659  2004-03-14 05:47:21.544166400\n",
       "3     13271885        1015  2004-03-15 14:41:19.702089601\n",
       "4     12315337       12072  2004-03-19 10:39:17.148105600"
      ]
     },
     "metadata": {},
     "output_type": "display_data"
    },
    {
     "data": {
      "text/plain": [
       "(21935, 3)"
      ]
     },
     "metadata": {},
     "output_type": "display_data"
    }
   ],
   "source": [
    "purchases_test = pd.read_csv('purchases_test.csv')\n",
    "display(\n",
    "    purchases_test.head(),\n",
    "    purchases_test.shape\n",
    ")"
   ]
  },
  {
   "cell_type": "code",
   "execution_count": 64,
   "metadata": {},
   "outputs": [
    {
     "name": "stdout",
     "output_type": "stream",
     "text": [
      "Users:\n",
      "test set len: 12502\n",
      "train set len 107491\n",
      "test-train len: 0\n",
      "Products:\n",
      "test set len: 1289\n",
      "train set len 1792\n",
      "test-train len: 7\n"
     ]
    }
   ],
   "source": [
    "# смотрим, есть ли в test те id которых нет в train\n",
    "print('Users:')\n",
    "test_customer_ids = set(purchases_test['customer_id'].to_list())\n",
    "print('test set len:', len(test_customer_ids))\n",
    "print('train set len', len(users_set))\n",
    "print('test-train len:', len(test_customer_ids-users_set))\n",
    "\n",
    "print('Products:')\n",
    "test_product_ids = set(purchases_test['product_id'].to_list())\n",
    "print('test set len:', len(test_product_ids))\n",
    "print('train set len', len(item_set))\n",
    "print('test-train len:', len(test_product_ids-item_set))\n"
   ]
  },
  {
   "cell_type": "code",
   "execution_count": null,
   "metadata": {},
   "outputs": [],
   "source": []
  },
  {
   "cell_type": "markdown",
   "metadata": {},
   "source": [
    "Измеряем качество рекомендаций с помощью метрики map@10"
   ]
  },
  {
   "cell_type": "code",
   "execution_count": 8,
   "metadata": {},
   "outputs": [
    {
     "data": {
      "text/html": [
       "<div>\n",
       "<style scoped>\n",
       "    .dataframe tbody tr th:only-of-type {\n",
       "        vertical-align: middle;\n",
       "    }\n",
       "\n",
       "    .dataframe tbody tr th {\n",
       "        vertical-align: top;\n",
       "    }\n",
       "\n",
       "    .dataframe thead th {\n",
       "        text-align: right;\n",
       "    }\n",
       "</style>\n",
       "<table border=\"1\" class=\"dataframe\">\n",
       "  <thead>\n",
       "    <tr style=\"text-align: right;\">\n",
       "      <th></th>\n",
       "      <th>customer_id</th>\n",
       "      <th>product_ids</th>\n",
       "    </tr>\n",
       "  </thead>\n",
       "  <tbody>\n",
       "    <tr>\n",
       "      <th>0</th>\n",
       "      <td>107</td>\n",
       "      <td>[5868]</td>\n",
       "    </tr>\n",
       "    <tr>\n",
       "      <th>1</th>\n",
       "      <td>453</td>\n",
       "      <td>[11854]</td>\n",
       "    </tr>\n",
       "    <tr>\n",
       "      <th>2</th>\n",
       "      <td>1011</td>\n",
       "      <td>[10609, 7110]</td>\n",
       "    </tr>\n",
       "    <tr>\n",
       "      <th>3</th>\n",
       "      <td>1135</td>\n",
       "      <td>[8994]</td>\n",
       "    </tr>\n",
       "    <tr>\n",
       "      <th>4</th>\n",
       "      <td>2947</td>\n",
       "      <td>[5868]</td>\n",
       "    </tr>\n",
       "  </tbody>\n",
       "</table>\n",
       "</div>"
      ],
      "text/plain": [
       "   customer_id    product_ids\n",
       "0          107         [5868]\n",
       "1          453        [11854]\n",
       "2         1011  [10609, 7110]\n",
       "3         1135         [8994]\n",
       "4         2947         [5868]"
      ]
     },
     "execution_count": 8,
     "metadata": {},
     "output_type": "execute_result"
    }
   ],
   "source": [
    "relevant = purchases_test.groupby('customer_id')['product_id'].apply(lambda s: s.values).reset_index()\n",
    "relevant.rename(columns={'product_id': 'product_ids'}, inplace=True)\n",
    "relevant.head()"
   ]
  },
  {
   "cell_type": "code",
   "execution_count": 9,
   "metadata": {},
   "outputs": [],
   "source": [
    "recommendations = []\n",
    "for user_id in relevant['customer_id']:\n",
    "    recommendations.append([x[0] for x in model.recommend(userid=user_id, user_items=user_items, N=10)])"
   ]
  },
  {
   "cell_type": "code",
   "execution_count": 9,
   "metadata": {},
   "outputs": [],
   "source": [
    "def apk(actual, predicted, k=10):\n",
    "    \"\"\"\n",
    "    Computes the average precision at k.\n",
    "    This function computes the average prescision at k between two lists of\n",
    "    items.\n",
    "    Parameters\n",
    "    ----------\n",
    "    actual : list\n",
    "             A list of elements that are to be predicted (order doesn't matter)\n",
    "    predicted : list\n",
    "                A list of predicted elements (order does matter)\n",
    "    k : int, optional\n",
    "        The maximum number of predicted elements\n",
    "    Returns\n",
    "    -------\n",
    "    score : double\n",
    "            The average precision at k over the input lists\n",
    "    \"\"\"\n",
    "    if len(predicted)>k:\n",
    "        predicted = predicted[:k]\n",
    "\n",
    "    score = 0.0\n",
    "    num_hits = 0.0\n",
    "\n",
    "    for i,p in enumerate(predicted):\n",
    "        if p in actual and p not in predicted[:i]:\n",
    "            num_hits += 1.0\n",
    "            score += num_hits / (i+1.0)\n",
    "\n",
    "    if len(actual) == 0:\n",
    "        return 0.0\n",
    "\n",
    "    # return score / min(len(actual), k)\n",
    "    return score / k\n",
    "\n",
    "def mapk(actual, predicted, k=10):\n",
    "    \"\"\"\n",
    "    Computes the mean average precision at k.\n",
    "    This function computes the mean average prescision at k between two lists\n",
    "    of lists of items.\n",
    "    Parameters\n",
    "    ----------\n",
    "    actual : list\n",
    "             A list of lists of elements that are to be predicted \n",
    "             (order doesn't matter in the lists)\n",
    "    predicted : list\n",
    "                A list of lists of predicted elements\n",
    "                (order matters in the lists)\n",
    "    k : int, optional\n",
    "        The maximum number of predicted elements\n",
    "    Returns\n",
    "    -------\n",
    "    score : double\n",
    "            The mean average precision at k over the input lists\n",
    "    \"\"\"\n",
    "    return np.mean([apk(a,p,k) for a,p in zip(actual, predicted)])"
   ]
  },
  {
   "cell_type": "code",
   "execution_count": 17,
   "metadata": {},
   "outputs": [
    {
     "data": {
      "text/plain": [
       "0.1"
      ]
     },
     "execution_count": 17,
     "metadata": {},
     "output_type": "execute_result"
    }
   ],
   "source": [
    "apk([1,0,0,0,0], [2,1,3,4,5],5)\n",
    "\n",
    "#mapk(relevant['product_ids'], recommendations, k=10)"
   ]
  },
  {
   "cell_type": "markdown",
   "metadata": {},
   "source": [
    "Задание: используйте пол клиентов для улучшения модели"
   ]
  },
  {
   "cell_type": "code",
   "execution_count": 12,
   "metadata": {},
   "outputs": [
    {
     "data": {
      "text/html": [
       "<div>\n",
       "<style scoped>\n",
       "    .dataframe tbody tr th:only-of-type {\n",
       "        vertical-align: middle;\n",
       "    }\n",
       "\n",
       "    .dataframe tbody tr th {\n",
       "        vertical-align: top;\n",
       "    }\n",
       "\n",
       "    .dataframe thead th {\n",
       "        text-align: right;\n",
       "    }\n",
       "</style>\n",
       "<table border=\"1\" class=\"dataframe\">\n",
       "  <thead>\n",
       "    <tr style=\"text-align: right;\">\n",
       "      <th></th>\n",
       "      <th>customer_id</th>\n",
       "      <th>sex</th>\n",
       "    </tr>\n",
       "  </thead>\n",
       "  <tbody>\n",
       "    <tr>\n",
       "      <th>0</th>\n",
       "      <td>14386819</td>\n",
       "      <td>Female</td>\n",
       "    </tr>\n",
       "    <tr>\n",
       "      <th>1</th>\n",
       "      <td>1481405</td>\n",
       "      <td>NaN</td>\n",
       "    </tr>\n",
       "    <tr>\n",
       "      <th>2</th>\n",
       "      <td>16745074</td>\n",
       "      <td>NaN</td>\n",
       "    </tr>\n",
       "    <tr>\n",
       "      <th>3</th>\n",
       "      <td>10325906</td>\n",
       "      <td>NaN</td>\n",
       "    </tr>\n",
       "    <tr>\n",
       "      <th>4</th>\n",
       "      <td>11167384</td>\n",
       "      <td>NaN</td>\n",
       "    </tr>\n",
       "  </tbody>\n",
       "</table>\n",
       "</div>"
      ],
      "text/plain": [
       "   customer_id     sex\n",
       "0     14386819  Female\n",
       "1      1481405     NaN\n",
       "2     16745074     NaN\n",
       "3     10325906     NaN\n",
       "4     11167384     NaN"
      ]
     },
     "execution_count": 12,
     "metadata": {},
     "output_type": "execute_result"
    }
   ],
   "source": [
    "customers = pd.read_csv('customers.csv')\n",
    "customers.head()"
   ]
  }
 ],
 "metadata": {
  "kernelspec": {
   "display_name": "Python 3",
   "language": "python",
   "name": "python3"
  },
  "language_info": {
   "codemirror_mode": {
    "name": "ipython",
    "version": 3
   },
   "file_extension": ".py",
   "mimetype": "text/x-python",
   "name": "python",
   "nbconvert_exporter": "python",
   "pygments_lexer": "ipython3",
   "version": "3.7.4"
  }
 },
 "nbformat": 4,
 "nbformat_minor": 2
}
